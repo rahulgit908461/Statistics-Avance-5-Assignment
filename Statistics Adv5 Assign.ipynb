{
 "cells": [
  {
   "cell_type": "code",
   "execution_count": 1,
   "id": "052daae2-ff88-4134-9342-c53cc1b767c4",
   "metadata": {},
   "outputs": [],
   "source": [
    "#Q1. Calculate the 95% confidence interval for a sample of data with a mean of 50 and a standard deviation\n",
    "#of 5 using Python. Interpret the results."
   ]
  },
  {
   "cell_type": "code",
   "execution_count": 2,
   "id": "e4998c24-ef0a-495c-a2d4-c9b22e0c2b79",
   "metadata": {},
   "outputs": [],
   "source": [
    "# Given CI=0.95 then significient =0.05 , sample mean =50 , sample std deviation s=5 find intervals=? \n",
    "#for CI, \n",
    "# Area at left of the z score is 1-0.025=0.975 then we can see z-Table and we find the z value for this are \n",
    "# fo Z value is -1.96 to +1.96\n",
    "# then we know the forfula for CI Lower = Sample mean -z value*population debiation /under root of sample size\n",
    "# CI lower = 50-1.96*(population deviation /under root of sample size)\n",
    "# CI Upper = 50+1.96*(population deviation/under root of sample size)"
   ]
  },
  {
   "cell_type": "code",
   "execution_count": 3,
   "id": "1b5d211d-fb2b-421f-b372-f4deac0b6761",
   "metadata": {},
   "outputs": [],
   "source": [
    "#Q2. Conduct a chi-square goodness of fit test to determine if the distribution of colors of M&Ms in a bag\n",
    "#matches the expected distribution of 20% blue, 20% orange, 20% green, 10% yellow, 10% red, and 20%\n",
    "#brown. Use Python to perform the test with a significance level of 0.05."
   ]
  },
  {
   "cell_type": "code",
   "execution_count": 14,
   "id": "e12a1f2a-7f13-4506-ac37-76f74d79037d",
   "metadata": {},
   "outputs": [],
   "source": [
    "# solution chi -square goodness testfor below data\n",
    "# given data is m/ms in bag total color-(20% blue, 20% orange,20% green, 10% yellow,10% red, 20% brown) , \n",
    "# SIgnificance level =0.05 , then CI=0.95 \n",
    "expected_data=[20,20,20,10,10,20]\n",
    "observed_data=[30,30,10,10,10,10]\n"
   ]
  },
  {
   "cell_type": "code",
   "execution_count": 15,
   "id": "8ef6fe38-3f0e-441f-8251-bd61cf8ede45",
   "metadata": {},
   "outputs": [],
   "source": [
    "import scipy.stats as stat\n",
    "import numpy as np"
   ]
  },
  {
   "cell_type": "code",
   "execution_count": 17,
   "id": "50bc6e34-7c19-456f-b489-5576bfd743e9",
   "metadata": {},
   "outputs": [
    {
     "data": {
      "text/plain": [
       "Power_divergenceResult(statistic=26.666666666666668, pvalue=6.623186342329828e-05)"
      ]
     },
     "execution_count": 17,
     "metadata": {},
     "output_type": "execute_result"
    }
   ],
   "source": [
    "stat.chisquare(expected_data,observed_data)"
   ]
  },
  {
   "cell_type": "code",
   "execution_count": 22,
   "id": "bc1da22a-e848-42af-99f2-df26d4543512",
   "metadata": {},
   "outputs": [],
   "source": [
    "chaisquare_value_statistics=stat.chisquare(expected_data,observed_data)"
   ]
  },
  {
   "cell_type": "code",
   "execution_count": 25,
   "id": "08630e6c-62ad-4f9c-9724-bdeb6d3ca40d",
   "metadata": {},
   "outputs": [
    {
     "data": {
      "text/plain": [
       "Power_divergenceResult(statistic=26.666666666666668, pvalue=6.623186342329828e-05)"
      ]
     },
     "execution_count": 25,
     "metadata": {},
     "output_type": "execute_result"
    }
   ],
   "source": [
    "chaisquare_value_statistics"
   ]
  },
  {
   "cell_type": "code",
   "execution_count": 19,
   "id": "d2819d5d-550b-4d31-9b30-e31b0133a8fc",
   "metadata": {},
   "outputs": [],
   "source": [
    "significient_value=0.05\n",
    "dof =len(expected_data)-1\n",
    "critical_value=stat.chi2.ppf(1-significient_value,dof)"
   ]
  },
  {
   "cell_type": "code",
   "execution_count": 20,
   "id": "a775adb4-183b-45a8-a444-e95c6fd49cde",
   "metadata": {},
   "outputs": [
    {
     "data": {
      "text/plain": [
       "11.070497693516351"
      ]
     },
     "execution_count": 20,
     "metadata": {},
     "output_type": "execute_result"
    }
   ],
   "source": [
    "critical_value"
   ]
  },
  {
   "cell_type": "code",
   "execution_count": 27,
   "id": "294cdf9c-62f5-4510-843f-dc15d05528ba",
   "metadata": {},
   "outputs": [],
   "source": [
    "#chaisquare_value_statistics>critical_value\n",
    " # SO it is rejected of null hypothysis H0   "
   ]
  },
  {
   "cell_type": "code",
   "execution_count": 28,
   "id": "43034189-c908-4ae8-82bf-d880f7ba6a28",
   "metadata": {},
   "outputs": [],
   "source": [
    "#Q3.Q3. Use Python to calculate the chi-square statistic and p-value for a contingency table with the following\n",
    "#data:\n",
    "# Given data outcome1=[20,15]\n",
    "#            outcome2=[10,25]\n",
    "#            outcome3=[15,20]"
   ]
  },
  {
   "cell_type": "code",
   "execution_count": 29,
   "id": "9f9a9d2f-5cce-4cdd-b340-9a42456368e3",
   "metadata": {},
   "outputs": [],
   "source": [
    "outcome1=[20,15]\n",
    "outcome2=[10,25]\n",
    "outcome3=[15,20]"
   ]
  },
  {
   "cell_type": "code",
   "execution_count": 30,
   "id": "f7880bb0-2c75-4142-af08-95feb4f2b5e0",
   "metadata": {},
   "outputs": [
    {
     "data": {
      "text/plain": [
       "Power_divergenceResult(statistic=14.0, pvalue=array([nan, nan]))"
      ]
     },
     "execution_count": 30,
     "metadata": {},
     "output_type": "execute_result"
    }
   ],
   "source": [
    "stat.chisquare(outcome1,outcome2,outcome3)"
   ]
  },
  {
   "cell_type": "code",
   "execution_count": 32,
   "id": "327ae45d-635f-4dc9-b7dc-5d4b21469026",
   "metadata": {},
   "outputs": [],
   "source": [
    "#Q5. Calculate the 90% confidence interval for a sample of data with a mean of 75 and a standard deviation\n",
    "#of 12 using Python. Interpret the results."
   ]
  },
  {
   "cell_type": "code",
   "execution_count": 33,
   "id": "c094f956-5d4d-4c3b-9b6d-ce63361777fe",
   "metadata": {},
   "outputs": [],
   "source": [
    "#Solution given data is CI=0.9 then significient value =0.1 , sample mean data 75 , S=12 find CI Upper & Lower\n",
    "# Area at left of the z score is 1-0.05=0.95\n",
    "# Z value is -1.65 to +1.65\n",
    "#then we know the forfula for CI Lower = Sample mean -z value*population debiation /under root of sample size\n",
    "# CI lower = 75-1.65*(population deviation /under root of sample size)\n",
    "# CI Upper = 75+1.65*(population deviation/under root of sample size)"
   ]
  },
  {
   "cell_type": "code",
   "execution_count": 34,
   "id": "2409508b-b6cc-4842-a595-ca23021de126",
   "metadata": {},
   "outputs": [],
   "source": [
    "#Q6. Use Python to plot the chi-square distribution with 10 degrees of freedom. Label the axes and shade the\n",
    "#area corresponding to a chi-square statistic of 15."
   ]
  },
  {
   "cell_type": "code",
   "execution_count": 42,
   "id": "3adcdd61-5dd6-42bf-809a-186d1c52b756",
   "metadata": {},
   "outputs": [],
   "source": [
    "# Ans df =10, chisquare statistic of 15\n",
    "import matplotlib.pylab as plt\n",
    "x=(10, 15)"
   ]
  },
  {
   "cell_type": "code",
   "execution_count": 43,
   "id": "2132ef88-18f0-4516-b9bd-c6c6a38d66f9",
   "metadata": {},
   "outputs": [
    {
     "data": {
      "text/plain": [
       "[<matplotlib.lines.Line2D at 0x7f349151ead0>]"
      ]
     },
     "execution_count": 43,
     "metadata": {},
     "output_type": "execute_result"
    },
    {
     "data": {
      "image/png": "[encoded data removed]",
      "text/plain": [
       "<Figure size 640x480 with 1 Axes>"
      ]
     },
     "metadata": {},
     "output_type": "display_data"
    }
   ],
   "source": [
    "plt.plot(x)"
   ]
  },
  {
   "cell_type": "code",
   "execution_count": 44,
   "id": "14b9f210-fd40-43eb-ad08-6d2ae0170fa5",
   "metadata": {},
   "outputs": [],
   "source": [
    "#Q7. A random sample of 1000 people was asked if they preferred Coke or Pepsi. Of the sample, 520\n",
    "#preferred Coke. Calculate a 99% confidence interval for the true proportion of people in the population who\n",
    "#prefer Coke."
   ]
  },
  {
   "cell_type": "code",
   "execution_count": 45,
   "id": "e0320dfe-ef47-4b2d-b336-00ab8642aa71",
   "metadata": {},
   "outputs": [],
   "source": [
    "# here Total sample 1000 people they prefer coke or pepsi,\n",
    "# prefer coke =520 people then pepsi =480, CI =0.99 , Significient =0.01,"
   ]
  },
  {
   "cell_type": "code",
   "execution_count": 49,
   "id": "7c720d00-10fa-4454-9eb9-a4086233b2d1",
   "metadata": {},
   "outputs": [],
   "source": [
    "expected_data=[520, 480]\n",
    "observed_data=[500,500]\n"
   ]
  },
  {
   "cell_type": "code",
   "execution_count": 51,
   "id": "dc556a69-1d12-4a65-978a-c3722fb7ae1a",
   "metadata": {},
   "outputs": [],
   "source": [
    "chaisquare_value_statistics=stat.chisquare(expected_data,observed_data)"
   ]
  },
  {
   "cell_type": "code",
   "execution_count": 52,
   "id": "0486e71d-b71f-4256-a5f3-1de301b26140",
   "metadata": {},
   "outputs": [
    {
     "data": {
      "text/plain": [
       "Power_divergenceResult(statistic=1.6, pvalue=0.20590321073206466)"
      ]
     },
     "execution_count": 52,
     "metadata": {},
     "output_type": "execute_result"
    }
   ],
   "source": [
    "chaisquare_value_statistics"
   ]
  },
  {
   "cell_type": "code",
   "execution_count": null,
   "id": "173f15dc-0691-44a1-92f2-3d02016bec56",
   "metadata": {},
   "outputs": [],
   "source": []
  },
  {
   "cell_type": "code",
   "execution_count": 53,
   "id": "a23fd573-c721-44fa-b1e5-6eabc426969b",
   "metadata": {},
   "outputs": [],
   "source": [
    "significient_value=0.01\n",
    "dof =len(expected_data)-1\n",
    "critical_value=stat.chi2.ppf(1-significient_value,dof)"
   ]
  },
  {
   "cell_type": "code",
   "execution_count": 54,
   "id": "7a4380d8-6158-4851-843d-206686d964e1",
   "metadata": {},
   "outputs": [
    {
     "data": {
      "text/plain": [
       "6.6348966010212145"
      ]
     },
     "execution_count": 54,
     "metadata": {},
     "output_type": "execute_result"
    }
   ],
   "source": [
    "critical_value"
   ]
  },
  {
   "cell_type": "code",
   "execution_count": 55,
   "id": "32ff1792-24bb-4f03-96ab-8c336205ed0f",
   "metadata": {},
   "outputs": [],
   "source": [
    "#chaisquare_value_statistics<critical_value\n",
    " # SO it is Accept of null hypothysis H0  "
   ]
  },
  {
   "cell_type": "code",
   "execution_count": 56,
   "id": "1169a1e3-b3c8-44e7-b2ca-6807b69b5a94",
   "metadata": {},
   "outputs": [],
   "source": [
    "#Q9. A study was conducted to determine if there is an association between smoking status (smoker or\n",
    "#non-smoker) and lung cancer diagnosis (yes or no). The results are shown in the contingency table below.\n",
    "#Conduct a chi-square test for independence to determine if there is a significant association between\n",
    "#smoking status and lung cancer diagnosis.\n",
    "expect_smoker=[60,140]\n",
    "obj_non_smoker=[30,170]"
   ]
  },
  {
   "cell_type": "code",
   "execution_count": 58,
   "id": "4475d992-d28b-4b63-9313-e685b3bc8341",
   "metadata": {},
   "outputs": [],
   "source": [
    "# solution \n",
    "smoker=[60,140]\n",
    "non_smoker=[30,170] , # Find Significient =?, dof=2-1=1\n",
    "# We kmow the formula =sametion of (non_smoker-smoker)2 / smoker \n",
    "#schisquare= (30-60)2/30+(170-140)2/170=35.29"
   ]
  },
  {
   "cell_type": "code",
   "execution_count": 59,
   "id": "81cc792b-ad6d-41c0-be85-7b7feacba381",
   "metadata": {},
   "outputs": [],
   "source": [
    "#Q10. A study was conducted to determine if the proportion of people who prefer milk chocolate, dark\n",
    "#chocolate, or white chocolate is different in the U.S. versus the U.K. A random sample of 500 people from\n",
    "#the U.S. and a random sample of 500 people from the U.K. were surveyed. The results are shown in the\n",
    "#contingency table below. Conduct a chi-square test for independence to determine if there is a significant\n",
    "#association between chocolate preference and country of origin. significient =0.01, CI =0.99\n"
   ]
  },
  {
   "cell_type": "code",
   "execution_count": 60,
   "id": "9a9e6e88-1272-4a58-be8d-7d319c1911af",
   "metadata": {},
   "outputs": [],
   "source": [
    "# Solution \n",
    "# Given data CI=0.99, significient =0.01, degree of freedom =3-1=2\n",
    "# so for critical value see chisquare table 9.210 \n",
    "#then for test of chisquare =(objo-expe)2/expe\n",
    "#chisquare = (200-225)2/225+(150-175)2/175+(150-100)2/100=31.4114\n",
    "# we got critical value < chisquare value  \n",
    "# Rejection the null hypothysis"
   ]
  },
  {
   "cell_type": "code",
   "execution_count": 61,
   "id": "2ec35e5a-d0fb-407d-a63b-828e47fd2bc2",
   "metadata": {},
   "outputs": [],
   "source": [
    "#Q11. A random sample of 30 people was selected from a population with an unknown mean and standard\n",
    "#deviation. The sample mean was found to be 72 and the sample standard deviation was found to be 10.\n",
    "#Conduct a hypothesis test to determine if the population mean is significantly different from 70. Use a\n",
    "#significance level of 0.05."
   ]
  },
  {
   "cell_type": "code",
   "execution_count": null,
   "id": "00936245-2c19-45c4-a5ae-538b71425ade",
   "metadata": {},
   "outputs": [],
   "source": [
    "# smple mean =72 , sample size =30, s=10 ,Population mean=70 ,significience level=0.05, CI=0.95\n",
    "#Degree of freedom =n-1=30-1=29 , then use t-table then t value is -2.045 to +2.045 \n",
    "# We Know  t=(sample mean-population mean)/sample deviation/under root sample size\n",
    "# then t= (72-70)/10/under root of 30  =  2*5.477/10=1.0954\n",
    "# so t=1.0954"
   ]
  }
 ],
 "metadata": {
  "kernelspec": {
   "display_name": "Python 3 (ipykernel)",
   "language": "python",
   "name": "python3"
  },
  "language_info": {
   "codemirror_mode": {
    "name": "ipython",
    "version": 3
   },
   "file_extension": ".py",
   "mimetype": "text/x-python",
   "name": "python",
   "nbconvert_exporter": "python",
   "pygments_lexer": "ipython3",
   "version": "3.10.8"
  }
 },
 "nbformat": 4,
 "nbformat_minor": 5
}
